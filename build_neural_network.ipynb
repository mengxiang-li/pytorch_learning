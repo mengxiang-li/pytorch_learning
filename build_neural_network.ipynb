{
 "cells": [
  {
   "cell_type": "code",
   "execution_count": 1,
   "id": "a2a87b7c",
   "metadata": {},
   "outputs": [],
   "source": [
    "import os\n",
    "import torch\n",
    "from torch import nn\n",
    "from torch.utils.data import DataLoader\n",
    "from torchvision import datasets,transforms"
   ]
  },
  {
   "cell_type": "code",
   "execution_count": 2,
   "id": "60d6b3d2",
   "metadata": {},
   "outputs": [
    {
     "name": "stdout",
     "output_type": "stream",
     "text": [
      "cuda\n"
     ]
    }
   ],
   "source": [
    "device = torch.accelerator.current_accelerator().type if torch.accelerator.is_available() else \"cpu\"\n",
    "print(device)"
   ]
  },
  {
   "cell_type": "code",
   "execution_count": 3,
   "id": "d97a0e3c",
   "metadata": {},
   "outputs": [],
   "source": [
    "class NeuralNetwork(nn.Module):\n",
    "    def __init__(self):\n",
    "        super().__init__()\n",
    "        self.flatten = nn.Flatten()\n",
    "        self.linear_relu_stack = nn.Sequential(\n",
    "            nn.Linear(28*28,512),\n",
    "            nn.ReLU(),\n",
    "            nn.Linear(512,512),\n",
    "            nn.ReLU(),\n",
    "            nn.Linear(512,10)\n",
    "        )\n",
    "\n",
    "    def forward(self,x):\n",
    "        x = self.flatten(x)\n",
    "        logits = self.linear_relu_stack(x)\n",
    "        return logits"
   ]
  },
  {
   "cell_type": "code",
   "execution_count": 4,
   "id": "aa4b9ddd",
   "metadata": {},
   "outputs": [
    {
     "name": "stdout",
     "output_type": "stream",
     "text": [
      "NeuralNetwork(\n",
      "  (flatten): Flatten(start_dim=1, end_dim=-1)\n",
      "  (linear_relu_stack): Sequential(\n",
      "    (0): Linear(in_features=784, out_features=512, bias=True)\n",
      "    (1): ReLU()\n",
      "    (2): Linear(in_features=512, out_features=512, bias=True)\n",
      "    (3): ReLU()\n",
      "    (4): Linear(in_features=512, out_features=10, bias=True)\n",
      "  )\n",
      ")\n"
     ]
    }
   ],
   "source": [
    "model = NeuralNetwork().to(device)\n",
    "print(model)"
   ]
  },
  {
   "cell_type": "code",
   "execution_count": 5,
   "id": "9e8cf7ab",
   "metadata": {},
   "outputs": [
    {
     "name": "stdout",
     "output_type": "stream",
     "text": [
      "tensor([6], device='cuda:0')\n"
     ]
    }
   ],
   "source": [
    "X = torch.rand(1,28,28,device=device)\n",
    "logits = model(X)\n",
    "pred_probab = nn.Softmax(dim=1)(logits)\n",
    "y_pred = pred_probab.argmax(1)\n",
    "print(y_pred)"
   ]
  },
  {
   "cell_type": "code",
   "execution_count": 6,
   "id": "ba081164",
   "metadata": {},
   "outputs": [
    {
     "name": "stdout",
     "output_type": "stream",
     "text": [
      "torch.Size([3, 28, 28])\n"
     ]
    }
   ],
   "source": [
    "input_image = torch.rand(3,28,28)\n",
    "print(input_image.size())"
   ]
  },
  {
   "cell_type": "code",
   "execution_count": 7,
   "id": "c86b9904",
   "metadata": {},
   "outputs": [
    {
     "name": "stdout",
     "output_type": "stream",
     "text": [
      "torch.Size([3, 784])\n"
     ]
    }
   ],
   "source": [
    "flatten = nn.Flatten()\n",
    "flat_image = flatten(input_image)\n",
    "print(flat_image.size())"
   ]
  },
  {
   "cell_type": "code",
   "execution_count": 8,
   "id": "cc8a01be",
   "metadata": {},
   "outputs": [
    {
     "name": "stdout",
     "output_type": "stream",
     "text": [
      "torch.Size([3, 20])\n"
     ]
    }
   ],
   "source": [
    "layer1 = nn.Linear(in_features=28*28,out_features=20)\n",
    "hidden1 = layer1(flat_image)\n",
    "print(hidden1.size())"
   ]
  },
  {
   "cell_type": "code",
   "execution_count": 9,
   "id": "5ff2d8a9",
   "metadata": {},
   "outputs": [
    {
     "name": "stdout",
     "output_type": "stream",
     "text": [
      "tensor([[ 0.3507,  0.1637,  0.1736,  0.3872,  0.2286,  0.4055, -0.0542,  0.3360,\n",
      "          0.0792,  0.0527, -0.1724,  0.2778, -0.0231, -0.2689,  0.6064,  0.1132,\n",
      "         -0.0128,  0.3137, -0.3627,  0.1695],\n",
      "        [ 0.3522,  0.3865,  0.3181,  0.3676,  0.2636,  0.2323, -0.1791,  0.2600,\n",
      "          0.0255,  0.1345, -0.2675, -0.1715,  0.3610, -0.3060,  0.4354, -0.1203,\n",
      "          0.2554,  0.3181, -0.1662,  0.0795],\n",
      "        [ 0.3245,  0.6241,  0.5355,  0.3640,  0.5451,  0.2928, -0.0530, -0.1418,\n",
      "         -0.0625, -0.0619, -0.5029,  0.3923,  0.0948, -0.1066,  0.1772,  0.0353,\n",
      "         -0.1136,  0.1982, -0.0735,  0.1202]], grad_fn=<AddmmBackward0>)\n"
     ]
    }
   ],
   "source": [
    "print(hidden1)"
   ]
  },
  {
   "cell_type": "code",
   "execution_count": 11,
   "id": "42fbd252",
   "metadata": {},
   "outputs": [
    {
     "name": "stdout",
     "output_type": "stream",
     "text": [
      "tensor([[0.3507, 0.1637, 0.1736, 0.3872, 0.2286, 0.4055, 0.0000, 0.3360, 0.0792,\n",
      "         0.0527, 0.0000, 0.2778, 0.0000, 0.0000, 0.6064, 0.1132, 0.0000, 0.3137,\n",
      "         0.0000, 0.1695],\n",
      "        [0.3522, 0.3865, 0.3181, 0.3676, 0.2636, 0.2323, 0.0000, 0.2600, 0.0255,\n",
      "         0.1345, 0.0000, 0.0000, 0.3610, 0.0000, 0.4354, 0.0000, 0.2554, 0.3181,\n",
      "         0.0000, 0.0795],\n",
      "        [0.3245, 0.6241, 0.5355, 0.3640, 0.5451, 0.2928, 0.0000, 0.0000, 0.0000,\n",
      "         0.0000, 0.0000, 0.3923, 0.0948, 0.0000, 0.1772, 0.0353, 0.0000, 0.1982,\n",
      "         0.0000, 0.1202]], grad_fn=<ReluBackward0>)\n"
     ]
    }
   ],
   "source": [
    "hidden1 = nn.ReLU()(hidden1)\n",
    "print(hidden1)"
   ]
  },
  {
   "cell_type": "code",
   "execution_count": 13,
   "id": "eefb63ff",
   "metadata": {},
   "outputs": [],
   "source": [
    "seq_modules = nn.Sequential(\n",
    "    flatten,\n",
    "    layer1,\n",
    "    nn.ReLU(),\n",
    "    nn.Linear(20,10)\n",
    ")\n",
    "input_image = torch.rand(3,28,28)\n",
    "logits = seq_modules(input_image)"
   ]
  },
  {
   "cell_type": "code",
   "execution_count": 14,
   "id": "c0a5db81",
   "metadata": {},
   "outputs": [],
   "source": [
    "softmax = nn.Softmax(dim=1)\n",
    "pred_probab = softmax(logits)"
   ]
  },
  {
   "cell_type": "code",
   "execution_count": 15,
   "id": "556ee809",
   "metadata": {},
   "outputs": [
    {
     "name": "stdout",
     "output_type": "stream",
     "text": [
      "{NeuralNetwork(\n",
      "  (flatten): Flatten(start_dim=1, end_dim=-1)\n",
      "  (linear_relu_stack): Sequential(\n",
      "    (0): Linear(in_features=784, out_features=512, bias=True)\n",
      "    (1): ReLU()\n",
      "    (2): Linear(in_features=512, out_features=512, bias=True)\n",
      "    (3): ReLU()\n",
      "    (4): Linear(in_features=512, out_features=10, bias=True)\n",
      "  )\n",
      ")}\n",
      "linear_relu_stack.0.weight torch.Size([512, 784]) tensor([[ 7.7978e-03, -4.3743e-03, -9.8696e-03,  ...,  9.2220e-03,\n",
      "         -1.1964e-05,  1.9522e-02],\n",
      "        [ 2.4185e-02,  6.4444e-04,  2.7597e-02,  ...,  1.1924e-03,\n",
      "         -3.0093e-03, -3.0487e-02]], device='cuda:0', grad_fn=<SliceBackward0>)\n",
      "linear_relu_stack.0.bias torch.Size([512]) tensor([-0.0022, -0.0041], device='cuda:0', grad_fn=<SliceBackward0>)\n",
      "linear_relu_stack.2.weight torch.Size([512, 512]) tensor([[ 0.0383,  0.0408, -0.0073,  ...,  0.0078,  0.0428,  0.0363],\n",
      "        [ 0.0146, -0.0166,  0.0131,  ..., -0.0082,  0.0381,  0.0275]],\n",
      "       device='cuda:0', grad_fn=<SliceBackward0>)\n",
      "linear_relu_stack.2.bias torch.Size([512]) tensor([-0.0016,  0.0196], device='cuda:0', grad_fn=<SliceBackward0>)\n",
      "linear_relu_stack.4.weight torch.Size([10, 512]) tensor([[ 2.5771e-02,  3.2120e-02,  1.2390e-02,  ..., -2.7925e-02,\n",
      "         -3.9884e-02,  3.9504e-02],\n",
      "        [ 6.9570e-03,  2.8062e-02, -6.7241e-03,  ..., -1.1100e-05,\n",
      "          5.5528e-03,  3.2478e-02]], device='cuda:0', grad_fn=<SliceBackward0>)\n",
      "linear_relu_stack.4.bias torch.Size([10]) tensor([-0.0356, -0.0294], device='cuda:0', grad_fn=<SliceBackward0>)\n"
     ]
    }
   ],
   "source": [
    "print({model})\n",
    "for name,param in model.named_parameters():\n",
    "    print(name,param.size(),param[:2])"
   ]
  }
 ],
 "metadata": {
  "kernelspec": {
   "display_name": "base",
   "language": "python",
   "name": "python3"
  },
  "language_info": {
   "codemirror_mode": {
    "name": "ipython",
    "version": 3
   },
   "file_extension": ".py",
   "mimetype": "text/x-python",
   "name": "python",
   "nbconvert_exporter": "python",
   "pygments_lexer": "ipython3",
   "version": "3.12.7"
  }
 },
 "nbformat": 4,
 "nbformat_minor": 5
}
