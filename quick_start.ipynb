{
 "cells": [
  {
   "cell_type": "code",
   "execution_count": 4,
   "id": "7b9963b8",
   "metadata": {},
   "outputs": [],
   "source": [
    "import torch\n",
    "from torch import nn\n",
    "from torch.utils.data import DataLoader\n",
    "from torchvision import datasets\n",
    "from torchvision.transforms import ToTensor"
   ]
  },
  {
   "cell_type": "code",
   "execution_count": 5,
   "id": "10c48e26",
   "metadata": {},
   "outputs": [],
   "source": [
    "training_data = datasets.FashionMNIST(\n",
    "    root=\"data\",\n",
    "    train=True,\n",
    "    download=True,\n",
    "    transform=ToTensor(),\n",
    ")\n",
    "\n",
    "test_data = datasets.FashionMNIST(\n",
    "    root=\"data\",\n",
    "    train=False,\n",
    "    download=True,\n",
    "    transform=ToTensor(),\n",
    ")"
   ]
  },
  {
   "cell_type": "code",
   "execution_count": 6,
   "id": "87bcfa7e",
   "metadata": {},
   "outputs": [
    {
     "name": "stdout",
     "output_type": "stream",
     "text": [
      "shape of X [N,C,H,W]:torch.Size([64, 1, 28, 28])\n",
      "shape of y:torch.Size([64])torch.int64\n"
     ]
    }
   ],
   "source": [
    "batch_size = 64\n",
    "\n",
    "train_dataloader = DataLoader(training_data,batch_size=batch_size)\n",
    "test_dataloader = DataLoader(test_data,batch_size=batch_size)\n",
    "\n",
    "for X,y in test_dataloader:\n",
    "    print(f\"shape of X [N,C,H,W]:{X.shape}\")\n",
    "    print(f\"shape of y:{y.shape}{y.dtype}\")\n",
    "    break"
   ]
  },
  {
   "cell_type": "code",
   "execution_count": 7,
   "id": "21229e78",
   "metadata": {},
   "outputs": [
    {
     "name": "stdout",
     "output_type": "stream",
     "text": [
      "using cpu\n",
      "NeuralNetwork(\n",
      "  (flatten): Flatten(start_dim=1, end_dim=-1)\n",
      "  (linear_relu_stack): Sequential(\n",
      "    (0): Linear(in_features=784, out_features=512, bias=True)\n",
      "    (1): ReLU()\n",
      "    (2): Linear(in_features=512, out_features=512, bias=True)\n",
      "    (3): ReLU()\n",
      "    (4): Linear(in_features=512, out_features=10, bias=True)\n",
      "  )\n",
      ")\n"
     ]
    }
   ],
   "source": [
    "device = torch.accelerator.current_accelerator().type if torch.accelerator.is_available() else \"cpu\"\n",
    "print(f\"using {device}\")\n",
    "\n",
    "class NeuralNetwork(nn.Module):\n",
    "    def __init__(self):\n",
    "        super().__init__()\n",
    "        self.flatten = nn.Flatten()\n",
    "        self.linear_relu_stack = nn.Sequential(\n",
    "            nn.Linear(28*28,512),\n",
    "            nn.ReLU(),\n",
    "            nn.Linear(512,512),\n",
    "            nn.ReLU(),\n",
    "            nn.Linear(512,10)\n",
    "        )\n",
    "\n",
    "    def forward(self,x):\n",
    "        x = self.flatten(x)\n",
    "        logits = self.linear_relu_stack(x)\n",
    "        return logits\n",
    "\n",
    "model = NeuralNetwork().to(device)\n",
    "print(model)"
   ]
  },
  {
   "cell_type": "code",
   "execution_count": 8,
   "id": "f9d5daa1",
   "metadata": {},
   "outputs": [],
   "source": [
    "loss_fn = nn.CrossEntropyLoss()\n",
    "optimizer = torch.optim.SGD(model.parameters(),lr=1e-3)"
   ]
  },
  {
   "cell_type": "code",
   "execution_count": 9,
   "id": "766f8c70",
   "metadata": {},
   "outputs": [],
   "source": [
    "def train(dataloader,model,loss_fn,optimizer):\n",
    "    size = len(dataloader.dataset)\n",
    "    model.train()\n",
    "    for batch,(X,y) in enumerate(dataloader):\n",
    "        X,y = X.to(device),y.to(device)\n",
    "\n",
    "        pred = model(X)\n",
    "        loss = loss_fn(pred,y)\n",
    "\n",
    "        loss.backward()\n",
    "        optimizer.step()\n",
    "        optimizer.zero_grad()\n",
    "\n",
    "        if batch % 100 == 0 :\n",
    "            loss,current = loss.item(),(batch + 1)*len(X)\n",
    "            print(f\"loss:{loss:>7f}[{current:>5d}/{size:>5d}]\")"
   ]
  },
  {
   "cell_type": "code",
   "execution_count": 14,
   "id": "60dab398",
   "metadata": {},
   "outputs": [],
   "source": [
    "def test(dataloader,model,loss_fn):\n",
    "    size = len(dataloader.dataset)\n",
    "    num_batches = len(dataloader)\n",
    "    model.eval()\n",
    "    test_loss,correct = 0,0\n",
    "    with torch.no_grad():\n",
    "        for X,y in dataloader:\n",
    "            X,y = X.to(device),y.to(device)\n",
    "            pred = model(X)\n",
    "            test_loss += loss_fn(pred,y).type(torch.float).sum().item()\n",
    "    test_loss /= num_batches\n",
    "    correct /= size\n",
    "    print(f\"test error \\n accuracy: {(100*correct):>0.1f}%,avg loss:{test_loss:>8f}\\n\")"
   ]
  },
  {
   "cell_type": "code",
   "execution_count": 15,
   "id": "87268eb1",
   "metadata": {},
   "outputs": [
    {
     "name": "stdout",
     "output_type": "stream",
     "text": [
      "epoch 1\n",
      "--------------\n",
      "loss:1.925911[   64/60000]\n",
      "loss:1.901410[ 6464/60000]\n",
      "loss:1.777547[12864/60000]\n",
      "loss:1.830849[19264/60000]\n",
      "loss:1.737725[25664/60000]\n",
      "loss:1.664801[32064/60000]\n",
      "loss:1.696640[38464/60000]\n",
      "loss:1.595984[44864/60000]\n",
      "loss:1.631875[51264/60000]\n",
      "loss:1.521486[57664/60000]\n",
      "test error \n",
      " accuracy: 0.0%,avg loss:1.535224\n",
      "\n",
      "epoch 2\n",
      "--------------\n",
      "loss:1.596748[   64/60000]\n",
      "loss:1.562905[ 6464/60000]\n",
      "loss:1.406267[12864/60000]\n",
      "loss:1.488330[19264/60000]\n",
      "loss:1.384832[25664/60000]\n",
      "loss:1.356558[32064/60000]\n",
      "loss:1.373402[38464/60000]\n",
      "loss:1.302591[44864/60000]\n",
      "loss:1.342675[51264/60000]\n",
      "loss:1.235802[57664/60000]\n",
      "test error \n",
      " accuracy: 0.0%,avg loss:1.262106\n",
      "\n",
      "epoch 3\n",
      "--------------\n",
      "loss:1.334639[   64/60000]\n",
      "loss:1.318434[ 6464/60000]\n",
      "loss:1.146039[12864/60000]\n",
      "loss:1.260834[19264/60000]\n",
      "loss:1.146767[25664/60000]\n",
      "loss:1.152797[32064/60000]\n",
      "loss:1.171548[38464/60000]\n",
      "loss:1.120085[44864/60000]\n",
      "loss:1.158056[51264/60000]\n",
      "loss:1.071498[57664/60000]\n",
      "test error \n",
      " accuracy: 0.0%,avg loss:1.092116\n",
      "\n",
      "epoch 4\n",
      "--------------\n",
      "loss:1.157252[   64/60000]\n",
      "loss:1.162829[ 6464/60000]\n",
      "loss:0.975275[12864/60000]\n",
      "loss:1.119024[19264/60000]\n",
      "loss:1.000965[25664/60000]\n",
      "loss:1.015405[32064/60000]\n",
      "loss:1.047586[38464/60000]\n",
      "loss:1.002694[44864/60000]\n",
      "loss:1.038834[51264/60000]\n",
      "loss:0.969741[57664/60000]\n",
      "test error \n",
      " accuracy: 0.0%,avg loss:0.982738\n",
      "\n",
      "epoch 5\n",
      "--------------\n",
      "loss:1.034902[   64/60000]\n",
      "loss:1.061645[ 6464/60000]\n",
      "loss:0.859062[12864/60000]\n",
      "loss:1.024520[19264/60000]\n",
      "loss:0.909361[25664/60000]\n",
      "loss:0.918427[32064/60000]\n",
      "loss:0.966417[38464/60000]\n",
      "loss:0.924980[44864/60000]\n",
      "loss:0.956617[51264/60000]\n",
      "loss:0.901618[57664/60000]\n",
      "test error \n",
      " accuracy: 0.0%,avg loss:0.908160\n",
      "\n",
      "done\n"
     ]
    }
   ],
   "source": [
    "epochs = 5\n",
    "for t in range(epochs):\n",
    "    print(f\"epoch {t+1}\\n--------------\")\n",
    "    train(train_dataloader,model,loss_fn,optimizer)\n",
    "    test(test_dataloader,model,loss_fn)\n",
    "print(\"done\")"
   ]
  },
  {
   "cell_type": "code",
   "execution_count": 16,
   "id": "d846ace1",
   "metadata": {},
   "outputs": [
    {
     "name": "stdout",
     "output_type": "stream",
     "text": [
      "saved pytorch model state to model.pth\n"
     ]
    }
   ],
   "source": [
    "torch.save(model.state_dict(),\"model.pth\")\n",
    "print(\"saved pytorch model state to model.pth\")"
   ]
  },
  {
   "cell_type": "code",
   "execution_count": null,
   "id": "d17fc925",
   "metadata": {},
   "outputs": [
    {
     "data": {
      "text/plain": [
       "<All keys matched successfully>"
      ]
     },
     "execution_count": 18,
     "metadata": {},
     "output_type": "execute_result"
    }
   ],
   "source": [
    "model = NeuralNetwork().to(device)\n",
    "model.load_state_dict(torch.load(\"model.pth\",weights_only=True))"
   ]
  },
  {
   "cell_type": "code",
   "execution_count": 22,
   "id": "756fb01d",
   "metadata": {},
   "outputs": [
    {
     "name": "stdout",
     "output_type": "stream",
     "text": [
      "predicted:\"Ankle boot\",actual:\"Ankle boot\"\n"
     ]
    }
   ],
   "source": [
    "classes = [\n",
    "    \"T - shirt/top\",\n",
    "    \"Trouser\",\n",
    "    \"Pullover\",\n",
    "    \"Dress\",\n",
    "    \"Coat\",\n",
    "    \"Sandal\",\n",
    "    \"Shirt\",\n",
    "    \"Sneaker\",\n",
    "    \"Bag\",\n",
    "    \"Ankle boot\",\n",
    "]\n",
    "\n",
    "model.eval()\n",
    "x,y = test_data[0][0],test_data[0][1]\n",
    "with torch.no_grad():\n",
    "    x = x.to(device)\n",
    "    pred = model(x)\n",
    "    predicted,actual = classes[pred[0].argmax(0)],classes[y]\n",
    "    print(f'predicted:\"{predicted}\",actual:\"{actual}\"')"
   ]
  },
  {
   "cell_type": "code",
   "execution_count": null,
   "id": "be3405b1",
   "metadata": {},
   "outputs": [],
   "source": []
  }
 ],
 "metadata": {
  "kernelspec": {
   "display_name": "base",
   "language": "python",
   "name": "python3"
  },
  "language_info": {
   "codemirror_mode": {
    "name": "ipython",
    "version": 3
   },
   "file_extension": ".py",
   "mimetype": "text/x-python",
   "name": "python",
   "nbconvert_exporter": "python",
   "pygments_lexer": "ipython3",
   "version": "3.12.7"
  }
 },
 "nbformat": 4,
 "nbformat_minor": 5
}
