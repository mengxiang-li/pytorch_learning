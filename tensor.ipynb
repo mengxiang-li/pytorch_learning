{
 "cells": [
  {
   "cell_type": "code",
   "execution_count": 2,
   "id": "da459b28",
   "metadata": {},
   "outputs": [],
   "source": [
    "import torch\n",
    "import numpy as np"
   ]
  },
  {
   "cell_type": "code",
   "execution_count": 3,
   "id": "cf8902e9",
   "metadata": {},
   "outputs": [],
   "source": [
    "data = [[1,2],[3,4]]\n",
    "x_data = torch.tensor(data)"
   ]
  },
  {
   "cell_type": "code",
   "execution_count": 4,
   "id": "89d3cc89",
   "metadata": {},
   "outputs": [],
   "source": [
    "np_array = np.array(data)\n",
    "x_np = torch.from_numpy(np_array)"
   ]
  },
  {
   "cell_type": "code",
   "execution_count": 5,
   "id": "a75e8772",
   "metadata": {},
   "outputs": [
    {
     "name": "stdout",
     "output_type": "stream",
     "text": [
      "ones tensor:\n",
      " tensor([[1, 1],\n",
      "        [1, 1]])\n",
      "\n",
      "random tensor: \n",
      " tensor([[0.8815, 0.2779],\n",
      "        [0.7849, 0.1507]])\n",
      "\n"
     ]
    }
   ],
   "source": [
    "x_ones = torch.ones_like(x_data)\n",
    "print(f\"ones tensor:\\n {x_ones}\\n\")\n",
    "\n",
    "x_rand = torch.rand_like(x_data,dtype = torch.float)\n",
    "print(f\"random tensor: \\n {x_rand}\\n\")"
   ]
  },
  {
   "cell_type": "code",
   "execution_count": 6,
   "id": "27763639",
   "metadata": {},
   "outputs": [
    {
     "name": "stdout",
     "output_type": "stream",
     "text": [
      "random tensor\n",
      "tensor([[0.7111, 0.2712, 0.2190],\n",
      "        [0.8689, 0.4920, 0.1885]])\n",
      "\n",
      "ones_tensor \n",
      " tensor([[1., 1., 1.],\n",
      "        [1., 1., 1.]])\n",
      "\n",
      "zeros_tensor \n",
      " tensor([[0., 0., 0.],\n",
      "        [0., 0., 0.]])\n",
      "\n"
     ]
    }
   ],
   "source": [
    "shape = (2,3,)\n",
    "rand_tensor = torch.rand(shape)\n",
    "ones_tensor = torch.ones(shape)\n",
    "zeros_tensor = torch.zeros(shape)\n",
    "\n",
    "print(f\"random tensor\\n{rand_tensor}\\n\")\n",
    "print(f\"ones_tensor \\n {ones_tensor}\\n\")\n",
    "print(f\"zeros_tensor \\n {zeros_tensor}\\n\")"
   ]
  },
  {
   "cell_type": "code",
   "execution_count": 7,
   "id": "35bae388",
   "metadata": {},
   "outputs": [
    {
     "name": "stdout",
     "output_type": "stream",
     "text": [
      "torch.Size([3, 4])\n",
      "torch.float32\n",
      "cpu\n"
     ]
    }
   ],
   "source": [
    "tensor = torch.rand(3,4)\n",
    "\n",
    "print(tensor.shape)\n",
    "print(tensor.dtype)\n",
    "print(tensor.device)"
   ]
  },
  {
   "cell_type": "code",
   "execution_count": 8,
   "id": "5216b373",
   "metadata": {},
   "outputs": [],
   "source": [
    "if torch.accelerator.is_available():\n",
    "    tensor = tensor.to(torch.accelerator.current_accelerator())"
   ]
  },
  {
   "cell_type": "code",
   "execution_count": 11,
   "id": "259118db",
   "metadata": {},
   "outputs": [
    {
     "name": "stdout",
     "output_type": "stream",
     "text": [
      "tensor([1., 1., 1., 1.])\n",
      "tensor([1., 1., 1., 1.])\n",
      "tensor([1., 1., 1., 1.])\n",
      "tensor([[1., 0., 1., 1.],\n",
      "        [1., 0., 1., 1.],\n",
      "        [1., 0., 1., 1.],\n",
      "        [1., 0., 1., 1.]])\n"
     ]
    }
   ],
   "source": [
    "tensor = torch.ones(4,4)\n",
    "print(tensor[0])\n",
    "print(tensor[:,0])\n",
    "print(tensor[...,-1])\n",
    "tensor[:,1] = 0\n",
    "print(tensor)"
   ]
  },
  {
   "cell_type": "code",
   "execution_count": null,
   "id": "d282ca13",
   "metadata": {},
   "outputs": [],
   "source": [
    "t1 = torch.cat([tensor,tensor,tensor],dim=0)\n",
    "print(t1)"
   ]
  },
  {
   "cell_type": "code",
   "execution_count": 21,
   "id": "2b550a4c",
   "metadata": {},
   "outputs": [
    {
     "name": "stdout",
     "output_type": "stream",
     "text": [
      "tensor([[1.6597, 0.8256],\n",
      "        [0.8256, 1.4393]]) \n",
      " tensor([[1.6597, 0.8256],\n",
      "        [0.8256, 1.4393]])\n"
     ]
    }
   ],
   "source": [
    "tensor = torch.rand(2,4)\n",
    "y1 = tensor @ tensor.T\n",
    "y2 = tensor.matmul(tensor.T)\n",
    "print(y1,\"\\n\",y2)"
   ]
  },
  {
   "cell_type": "code",
   "execution_count": 22,
   "id": "f9b59994",
   "metadata": {},
   "outputs": [
    {
     "name": "stdout",
     "output_type": "stream",
     "text": [
      "tensor([[1.6597, 0.8256],\n",
      "        [0.8256, 1.4393]])\n"
     ]
    }
   ],
   "source": [
    "y3 = torch.rand_like(y1)\n",
    "torch.matmul(tensor,tensor.T,out=y3)\n",
    "print(y3)"
   ]
  },
  {
   "cell_type": "code",
   "execution_count": 23,
   "id": "33feea67",
   "metadata": {},
   "outputs": [
    {
     "name": "stdout",
     "output_type": "stream",
     "text": [
      "tensor([[0.7393, 0.0095, 0.8380, 0.0729],\n",
      "        [0.3594, 0.8776, 0.0122, 0.1901]]) \n",
      " tensor([[0.7393, 0.0095, 0.8380, 0.0729],\n",
      "        [0.3594, 0.8776, 0.0122, 0.1901]])\n"
     ]
    }
   ],
   "source": [
    "z1 = tensor*tensor\n",
    "z2 = tensor.mul(tensor)\n",
    "\n",
    "print(z1,\"\\n\",z2)"
   ]
  },
  {
   "cell_type": "code",
   "execution_count": 24,
   "id": "7767dd91",
   "metadata": {},
   "outputs": [
    {
     "data": {
      "text/plain": [
       "tensor([[0.7393, 0.0095, 0.8380, 0.0729],\n",
       "        [0.3594, 0.8776, 0.0122, 0.1901]])"
      ]
     },
     "execution_count": 24,
     "metadata": {},
     "output_type": "execute_result"
    }
   ],
   "source": [
    "z3 = torch.rand_like(tensor)\n",
    "torch.mul(tensor,tensor,out=z3)"
   ]
  },
  {
   "cell_type": "code",
   "execution_count": 25,
   "id": "feae4549",
   "metadata": {},
   "outputs": [
    {
     "name": "stdout",
     "output_type": "stream",
     "text": [
      "tensor(4.2255) <class 'torch.Tensor'>\n",
      "4.225484848022461 <class 'float'>\n"
     ]
    }
   ],
   "source": [
    "agg = tensor.sum()\n",
    "print(agg,type(agg))\n",
    "agg_item = agg.item()\n",
    "print(agg_item,type(agg_item))"
   ]
  },
  {
   "cell_type": "code",
   "execution_count": 26,
   "id": "85085e90",
   "metadata": {},
   "outputs": [
    {
     "name": "stdout",
     "output_type": "stream",
     "text": [
      "tensor([[0.8598, 0.0975, 0.9154, 0.2699],\n",
      "        [0.5995, 0.9368, 0.1105, 0.4360]])\n",
      "tensor([[5.8598, 5.0975, 5.9154, 5.2699],\n",
      "        [5.5995, 5.9368, 5.1105, 5.4360]])\n"
     ]
    }
   ],
   "source": [
    "print(tensor)\n",
    "tensor.add_(5)\n",
    "print(tensor)"
   ]
  },
  {
   "cell_type": "code",
   "execution_count": 27,
   "id": "2a34f4ee",
   "metadata": {},
   "outputs": [
    {
     "name": "stdout",
     "output_type": "stream",
     "text": [
      "tensor([1., 1., 1., 1., 1.])\n",
      "[1. 1. 1. 1. 1.]\n"
     ]
    }
   ],
   "source": [
    "t = torch.ones(5)\n",
    "print(t)\n",
    "n = t.numpy()\n",
    "print(n)"
   ]
  },
  {
   "cell_type": "code",
   "execution_count": 28,
   "id": "ff3acc40",
   "metadata": {},
   "outputs": [
    {
     "name": "stdout",
     "output_type": "stream",
     "text": [
      "tensor([2., 2., 2., 2., 2.])\n",
      "[2. 2. 2. 2. 2.]\n"
     ]
    }
   ],
   "source": [
    "t.add_(1)\n",
    "print(t)\n",
    "print(n)"
   ]
  },
  {
   "cell_type": "code",
   "execution_count": 29,
   "id": "af3154b6",
   "metadata": {},
   "outputs": [],
   "source": [
    "n = np.ones(5)\n",
    "t = torch.from_numpy(n)"
   ]
  },
  {
   "cell_type": "code",
   "execution_count": 30,
   "id": "c7ffb1e2",
   "metadata": {},
   "outputs": [
    {
     "name": "stdout",
     "output_type": "stream",
     "text": [
      "tensor([2., 2., 2., 2., 2.], dtype=torch.float64)\n",
      "[2. 2. 2. 2. 2.]\n"
     ]
    }
   ],
   "source": [
    "np.add(n,1,out=n)\n",
    "print(t)\n",
    "print(n)"
   ]
  },
  {
   "cell_type": "code",
   "execution_count": null,
   "id": "52976cfd",
   "metadata": {},
   "outputs": [],
   "source": []
  }
 ],
 "metadata": {
  "kernelspec": {
   "display_name": "base",
   "language": "python",
   "name": "python3"
  },
  "language_info": {
   "codemirror_mode": {
    "name": "ipython",
    "version": 3
   },
   "file_extension": ".py",
   "mimetype": "text/x-python",
   "name": "python",
   "nbconvert_exporter": "python",
   "pygments_lexer": "ipython3",
   "version": "3.12.7"
  }
 },
 "nbformat": 4,
 "nbformat_minor": 5
}
